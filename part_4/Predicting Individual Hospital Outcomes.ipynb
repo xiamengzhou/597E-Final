{
 "cells": [
  {
   "cell_type": "code",
   "execution_count": 3,
   "metadata": {},
   "outputs": [],
   "source": [
    "import pandas as pd\n",
    "from xgboost import XGBClassifier\n",
    "from sklearn.metrics import accuracy_score\n",
    "from sklearn.metrics import roc_curve\n",
    "from sklearn.metrics import roc_auc_score\n",
    "from matplotlib import pyplot"
   ]
  },
  {
   "cell_type": "code",
   "execution_count": 4,
   "metadata": {},
   "outputs": [
    {
     "data": {
      "text/plain": [
       "(504486, 1061)"
      ]
     },
     "execution_count": 4,
     "metadata": {},
     "output_type": "execute_result"
    }
   ],
   "source": [
    "x_train_orig = pd.read_csv('Results/x_train.csv')\n",
    "x_train_orig.shape"
   ]
  },
  {
   "cell_type": "code",
   "execution_count": 5,
   "metadata": {},
   "outputs": [
    {
     "data": {
      "text/plain": [
       "(504486, 2)"
      ]
     },
     "execution_count": 5,
     "metadata": {},
     "output_type": "execute_result"
    }
   ],
   "source": [
    "y_train_orig = pd.read_csv('Results/y_train.csv')\n",
    "y_train_orig.shape"
   ]
  },
  {
   "cell_type": "code",
   "execution_count": 83,
   "metadata": {},
   "outputs": [
    {
     "name": "stdout",
     "output_type": "stream",
     "text": [
      "['Unnamed: 0', 'dep_name.C', 'dep_name.B', 'dep_name.A', 'esi.1', 'esi.2', 'esi.3', 'esi.4', 'esi.5', 'age', 'gender.Female', 'gender.Male', 'ethnicity.Hispanic.or.Latino', 'ethnicity.Non.Hispanic', 'ethnicity.Patient.Refused', 'ethnicity.Unknown', 'race.American.Indian.or.Alaska.Native', 'race.Asian', 'race.Black.or.African.American', 'race.Native.Hawaiian.or.Other.Pacific.Islander', 'race.Other', 'race.Patient.Refused', 'race.Unknown', 'race.White.or.Caucasian', 'lang.English', 'lang.Other', 'religion.Baptist', 'religion.Catholic', 'religion.Christian', 'religion.Episcopal', 'religion.Jehovah.s.Witness', 'religion.Jewish', 'religion.Methodist', 'religion.Muslim', 'religion.None', 'religion.Other', 'religion.Pentecostal', 'religion.Protestant', 'religion.Unknown', 'maritalstatus.Civil.Union', 'maritalstatus.Divorced', 'maritalstatus.Legally.Separated', 'maritalstatus.Life.Partner', 'maritalstatus.Married', 'maritalstatus.Other', 'maritalstatus.Significant.Other', 'maritalstatus.Single', 'maritalstatus.Unknown', 'maritalstatus.Widowed', 'employstatus.Disabled', 'employstatus.Full.Time', 'employstatus.Not.Employed', 'employstatus.On.Active.Military.Duty', 'employstatus.Part.Time', 'employstatus.Retired', 'employstatus.Self.Employed', 'employstatus.Student...Full.Time', 'employstatus.Student...Part.Time', 'employstatus.Unknown', 'insurance_status.Commercial', 'insurance_status.Medicaid', 'insurance_status.Medicare', 'insurance_status.Other', 'insurance_status.Self.pay', 'arrivalmode.ambulance', 'arrivalmode.Car', 'arrivalmode.Other', 'arrivalmode.Police', 'arrivalmode.Public.Transportation', 'arrivalmode.Walk.in', 'arrivalmode.Wheelchair', 'arrivalmonth.April', 'arrivalmonth.August', 'arrivalmonth.December', 'arrivalmonth.February', 'arrivalmonth.January', 'arrivalmonth.July', 'arrivalmonth.June', 'arrivalmonth.March', 'arrivalmonth.May', 'arrivalmonth.November', 'arrivalmonth.October', 'arrivalmonth.September', 'arrivalday.Friday', 'arrivalday.Monday', 'arrivalday.Saturday', 'arrivalday.Sunday', 'arrivalday.Thursday', 'arrivalday.Tuesday', 'arrivalday.Wednesday', 'arrivalhour_bin.23.02', 'arrivalhour_bin.03.06', 'arrivalhour_bin.07.10', 'arrivalhour_bin.11.14', 'arrivalhour_bin.15.18', 'arrivalhour_bin.19.22', 'previousdispo.Admit', 'previousdispo.AMA', 'previousdispo.Discharge', 'previousdispo.Eloped', 'previousdispo.LWBS.after.Triage', 'previousdispo.LWBS.before.Triage', 'previousdispo.No.previous.dispo', 'previousdispo.Observation', 'previousdispo.Send.to.L.D', 'previousdispo.Transfer.to.Another.Facility', 'X.2ndarymalig.', 'abdomhernia', 'abdomnlpain', 'abortcompl', 'acqfootdef', 'acrenlfail', 'acutecvd', 'acutemi', 'acutphanm', 'adjustmentdisorders', 'adltrespfl', 'alcoholrelateddisorders', 'allergy', 'amniosdx', 'analrectal', 'anemia', 'aneurysm', 'anxietydisorders', 'appendicitis', 'artembolism', 'asppneumon', 'asthma', 'attentiondeficitconductdisruptivebeha', 'backproblem', 'biliarydx', 'birthasphyx', 'birthtrauma', 'bladdercncr', 'blindness', 'bnignutneo', 'bonectcncr', 'bph', 'brainnscan', 'breastcancr', 'breastdx', 'brnchlngca', 'bronchitis', 'burns', 'cardiaarrst', 'cardiacanom', 'carditis', 'cataract', 'cervixcancr', 'chestpain', 'chfnonhp', 'chrkidneydisease', 'coaghemrdx', 'coloncancer', 'comabrndmg', 'complicdevi', 'complicproc', 'conduction', 'contraceptiv', 'copd', 'coronathero', 'crushinjury', 'cysticfibro', 'deliriumdementiaamnesticothercognitiv', 'developmentaldisorders', 'diabmelnoc', 'diabmelwcm', 'disordersusuallydiagnosedininfancych', 'diverticulos', 'dizziness', 'dminpreg', 'dysrhythmia', 'earlylabor', 'ecodesadverseeffectsofmedicalcare', 'ecodesadverseeffectsofmedicaldrugs', 'ecodescutpierce', 'ecodesdrowningsubmersion', 'ecodesfall', 'ecodesfirearm', 'ecodesfireburn', 'ecodesmachinery', 'ecodesmotorvehicletrafficmvt', 'ecodesnaturalenvironment', 'ecodesotherspecifiedandclassifiable', 'ecodesotherspecifiednec', 'ecodespedalcyclistnotmvt', 'ecodesplaceofoccurrence', 'ecodespoisoning', 'ecodesstruckbyagainst', 'ecodessuffocation', 'ecodestransportnotmvt', 'ecodesunspecified', 'ectopicpreg', 'encephalitis', 'endometrios', 'epilepsycnv', 'esophcancer', 'esophgealdx', 'exameval', 'eyeinfectn', 'fatigue', 'femgenitca', 'feminfertil', 'fetaldistrs', 'fluidelcdx', 'fuo', 'fxarm', 'fxhip', 'fxleg', 'fxskullfac', 'gangrene', 'gasduoulcer', 'gastritis', 'gastroent', 'giconganom', 'gihemorrhag', 'giperitcan', 'glaucoma', 'goutotcrys', 'guconganom', 'hdnckcancr', 'headachemig', 'hemmorhoids', 'hemorrpreg', 'hepatitis', 'hivinfectn', 'hodgkinsds', 'hrtvalvedx', 'htn', 'htncomplicn', 'htninpreg', 'hyperlipidem', 'immunitydx', 'immunizscrn', 'impulsecontroldisordersnec', 'inducabortn', 'infectarth', 'influenza', 'infmalegen', 'intestinfct', 'intobstruct', 'intracrninj', 'jointinjury', 'kidnyrnlca', 'lateeffcvd', 'leukemias', 'liveborn', 'liveribdca', 'longpregncy', 'lowbirthwt', 'lungexternl', 'lymphenlarg', 'maintchemr', 'malgenitca', 'maligneopls', 'malposition', 'meningitis', 'menopausldx', 'menstrualdx', 'miscellaneousmentalhealthdisorders', 'mooddisorders', 'mouthdx', 'ms', 'multmyeloma', 'mycoses', 'nauseavomit', 'neoplsmunsp', 'nephritis', 'nervcongan', 'nonepithca', 'nonhodglym', 'nutritdefic', 'obrelatedperintrauma', 'opnwndextr', 'opnwndhead', 'osteoarthros', 'osteoporosis', 'otacqdefor', 'otaftercare', 'otbnignneo', 'otbonedx', 'otcirculdx', 'otcomplbir', 'otconganom', 'otconntiss', 'otdxbladdr', 'otdxkidney', 'otdxstomch', 'otendodsor', 'otfemalgen', 'othbactinf', 'othcnsinfx', 'othematldx', 'othercvd', 'othereardx', 'otheredcns', 'othereyedx', 'othergidx', 'othergudx', 'otherinjury', 'otherpregnancyanddeliveryincludingnormal', 'otherscreen', 'othfracture', 'othheartdx', 'othinfectns', 'othliverdx', 'othlowresp', 'othmalegen', 'othnervdx', 'othskindx', 'othveindx', 'otinflskin', 'otitismedia', 'otjointdx', 'otnutritdx', 'otperintdx', 'otpregcomp', 'otprimryca', 'otrespirca', 'otupprresp', 'otuprspin', 'ovariancyst', 'ovarycancer', 'pancreascan', 'pancreasdx', 'paralysis', 'parkinsons', 'pathologfx', 'pelvicobstr', 'perintjaund', 'peripathero', 'peritonitis', 'personalitydisorders', 'phlebitis', 'pid', 'pleurisy', 'pneumonia', 'poisnnonmed', 'poisnotmed', 'poisonpsych', 'precereoccl', 'prevcsectn', 'prolapse', 'prostatecan', 'pulmhartdx', 'rctmanusca', 'rehab', 'respdistres', 'retinaldx', 'rheumarth', 'schizophreniaandotherpsychoticdisorde', 'screeningandhistoryofmentalhealthan', 'septicemia', 'septicemiaexceptinlabor', 'sexualinfxs', 'shock', 'sicklecell', 'skininfectn', 'skinmelanom', 'sle', 'socialadmin', 'spincorinj', 'spontabortn', 'sprain', 'stomchcancr', 'substancerelateddisorders', 'suicideandintentionalselfinflictedin', 'superficinj', 'syncope', 'teethdx', 'testiscancr', 'thyroidcncr', 'thyroiddsor', 'tia', 'tonsillitis', 'tuberculosis', 'ulceratcol', 'ulcerskin', 'umbilcord', 'unclassified', 'urinstone', 'urinyorgca', 'uteruscancr', 'uti', 'varicosevn', 'viralinfect', 'whtblooddx', 'n_edvisits', 'n_admissions', 'absolutelymphocytecount_last', 'acetonebld_last', 'X.alanineaminotransferase.alt._last.', 'albumin_last', 'alkphos_last', 'X.anc.absneutrophilcount._last.', 'aniongap_last', 'X.aspartateaminotransferase.ast._last.', 'X.b.typenatriureticpeptide.pro.probnp._last.', 'X.baseexcess.poc._last.', 'X.baseexcess.venous.poc._last.', 'basos_last', 'basosabs_last', 'X.benzodiazepinesscreen.urine.noconf._last.', 'bilirubindirect_last', 'bilirubintotal_last', 'bun_last', 'X.bun.creatratio_last.', 'calcium_last', 'X.calculatedco2.poc._last.', 'X.calculatedhco3.poc.i_last.', 'X.calculatedo2saturation.poc._last.', 'chloride_last', 'cktotal_last', 'co2_last', 'X.co2calculated.venous.poc._last.', 'X.co2.poc_last.', 'creatinine_last', 'X.d.dimer_last.', 'egfr_last', 'X.egfr.nonafricanamerican._last.', 'X.egfr.aframer._last.', 'eos_last', 'eosinoabs_last', 'epithelialcells_last', 'globulin_last', 'glucose_last', 'X.glucose.meter_last.', 'X.hco3calculated.venous.poc._last.', 'hematocrit_last', 'hemoglobin_last', 'X.immaturegrans.abs._last.', 'immaturegranulocytes_last', 'inr_last', 'X.lactate.poc_last.', 'lipase_last', 'lymphs_last', 'magnesium_last', 'mch_last', 'mchc_last', 'mcv_last', 'monocytes_last', 'monosabs_last', 'mpv_last', 'neutrophils_last', 'nrbc_last', 'nrbcabsolute_last', 'X.o2satcalculated.venous.poc._last.', 'X.pco2.poc._last.', 'X.pco2.venous.poc._last.', 'X.ph.venous.poc._last.', 'X.phencyclidine.pcp.screen.urine.noconf._last.', 'phosphorus_last', 'platelets_last', 'X.po2.poc._last.', 'X.po2.venous.poc._last.', 'pocbun_last', 'poccreatinine_last', 'pocglucose_last', 'pochematocrit_last', 'pocionizedcalcium_last', 'pocph_last', 'pocpotassium_last', 'pocsodium_last', 'poctroponini._last', 'potassium_last', 'proteintotal_last', 'prothrombintime_last', 'ptt_last', 'rbc_last', 'X.rbc.hpf_last.', 'rdw_last', 'sodium_last', 'X.troponini.poc._last.', 'troponint_last', 'tsh_last', 'wbc_last', 'X.wbc.hpf_last.', 'absolutelymphocytecount_min', 'acetonebld_min', 'X.alanineaminotransferase.alt._min.', 'albumin_min', 'alkphos_min', 'X.anc.absneutrophilcount._min.', 'aniongap_min', 'X.aspartateaminotransferase.ast._min.', 'X.b.typenatriureticpeptide.pro.probnp._min.', 'X.baseexcess.poc._min.', 'X.baseexcess.venous.poc._min.', 'basos_min', 'basosabs_min', 'X.benzodiazepinesscreen.urine.noconf._min.', 'bilirubindirect_min', 'bilirubintotal_min', 'bun_min', 'X.bun.creatratio_min.', 'calcium_min', 'X.calculatedco2.poc._min.', 'X.calculatedhco3.poc.i_min.', 'X.calculatedo2saturation.poc._min.', 'chloride_min', 'cktotal_min', 'co2_min', 'X.co2calculated.venous.poc._min.', 'X.co2.poc_min.', 'creatinine_min', 'X.d.dimer_min.', 'egfr_min', 'X.egfr.nonafricanamerican._min.', 'X.egfr.aframer._min.', 'eos_min', 'eosinoabs_min', 'epithelialcells_min', 'globulin_min', 'glucose_min', 'X.glucose.meter_min.', 'X.hco3calculated.venous.poc._min.', 'hematocrit_min', 'hemoglobin_min', 'X.immaturegrans.abs._min.', 'immaturegranulocytes_min', 'inr_min', 'X.lactate.poc_min.', 'lipase_min', 'lymphs_min', 'magnesium_min', 'mch_min', 'mchc_min', 'mcv_min', 'monocytes_min', 'monosabs_min', 'mpv_min', 'neutrophils_min', 'nrbc_min', 'nrbcabsolute_min', 'X.o2satcalculated.venous.poc._min.', 'X.pco2.poc._min.', 'X.pco2.venous.poc._min.', 'X.ph.venous.poc._min.', 'X.phencyclidine.pcp.screen.urine.noconf._min.', 'phosphorus_min', 'platelets_min', 'X.po2.poc._min.', 'X.po2.venous.poc._min.', 'pocbun_min', 'poccreatinine_min', 'pocglucose_min', 'pochematocrit_min', 'pocionizedcalcium_min', 'pocph_min', 'pocpotassium_min', 'pocsodium_min', 'poctroponini._min', 'potassium_min', 'proteintotal_min', 'prothrombintime_min', 'ptt_min', 'rbc_min', 'X.rbc.hpf_min.', 'rdw_min', 'sodium_min', 'X.troponini.poc._min.', 'troponint_min', 'tsh_min', 'wbc_min', 'X.wbc.hpf_min.', 'absolutelymphocytecount_max', 'acetonebld_max', 'X.alanineaminotransferase.alt._max.', 'albumin_max', 'alkphos_max', 'X.anc.absneutrophilcount._max.', 'aniongap_max', 'X.aspartateaminotransferase.ast._max.', 'X.b.typenatriureticpeptide.pro.probnp._max.', 'X.baseexcess.poc._max.', 'X.baseexcess.venous.poc._max.', 'basos_max', 'basosabs_max', 'X.benzodiazepinesscreen.urine.noconf._max.', 'bilirubindirect_max', 'bilirubintotal_max', 'bun_max', 'X.bun.creatratio_max.', 'calcium_max', 'X.calculatedco2.poc._max.', 'X.calculatedhco3.poc.i_max.', 'X.calculatedo2saturation.poc._max.', 'chloride_max', 'cktotal_max', 'co2_max', 'X.co2calculated.venous.poc._max.', 'X.co2.poc_max.', 'creatinine_max', 'X.d.dimer_max.', 'egfr_max', 'X.egfr.nonafricanamerican._max.', 'X.egfr.aframer._max.', 'eos_max', 'eosinoabs_max', 'epithelialcells_max', 'globulin_max', 'glucose_max', 'X.glucose.meter_max.', 'X.hco3calculated.venous.poc._max.', 'hematocrit_max', 'hemoglobin_max', 'X.immaturegrans.abs._max.', 'immaturegranulocytes_max', 'inr_max', 'X.lactate.poc_max.', 'lipase_max', 'lymphs_max', 'magnesium_max', 'mch_max', 'mchc_max', 'mcv_max', 'monocytes_max', 'monosabs_max', 'mpv_max', 'neutrophils_max', 'nrbc_max', 'nrbcabsolute_max', 'X.o2satcalculated.venous.poc._max.', 'X.pco2.poc._max.', 'X.pco2.venous.poc._max.', 'X.ph.venous.poc._max.', 'X.phencyclidine.pcp.screen.urine.noconf._max.', 'phosphorus_max', 'platelets_max', 'X.po2.poc._max.', 'X.po2.venous.poc._max.', 'pocbun_max', 'poccreatinine_max', 'pocglucose_max', 'pochematocrit_max', 'pocionizedcalcium_max', 'pocph_max', 'pocpotassium_max', 'pocsodium_max', 'poctroponini._max', 'potassium_max', 'proteintotal_max', 'prothrombintime_max', 'ptt_max', 'rbc_max', 'X.rbc.hpf_max.', 'rdw_max', 'sodium_max', 'X.troponini.poc._max.', 'troponint_max', 'tsh_max', 'wbc_max', 'X.wbc.hpf_max.', 'absolutelymphocytecount_median', 'acetonebld_median', 'X.alanineaminotransferase.alt._median.', 'albumin_median', 'alkphos_median', 'X.anc.absneutrophilcount._median.', 'aniongap_median', 'X.aspartateaminotransferase.ast._median.', 'X.b.typenatriureticpeptide.pro.probnp._median.', 'X.baseexcess.poc._median.', 'X.baseexcess.venous.poc._median.', 'basos_median', 'basosabs_median', 'X.benzodiazepinesscreen.urine.noconf._median.', 'bilirubindirect_median', 'bilirubintotal_median', 'bun_median', 'X.bun.creatratio_median.', 'calcium_median', 'X.calculatedco2.poc._median.', 'X.calculatedhco3.poc.i_median.', 'X.calculatedo2saturation.poc._median.', 'chloride_median', 'cktotal_median', 'co2_median', 'X.co2calculated.venous.poc._median.', 'X.co2.poc_median.', 'creatinine_median', 'X.d.dimer_median.', 'egfr_median', 'X.egfr.nonafricanamerican._median.', 'X.egfr.aframer._median.', 'eos_median', 'eosinoabs_median', 'epithelialcells_median', 'globulin_median', 'glucose_median', 'X.glucose.meter_median.', 'X.hco3calculated.venous.poc._median.', 'hematocrit_median', 'hemoglobin_median', 'X.immaturegrans.abs._median.', 'immaturegranulocytes_median', 'inr_median', 'X.lactate.poc_median.', 'lipase_median', 'lymphs_median', 'magnesium_median', 'mch_median', 'mchc_median', 'mcv_median', 'monocytes_median', 'monosabs_median', 'mpv_median', 'neutrophils_median', 'nrbc_median', 'nrbcabsolute_median', 'X.o2satcalculated.venous.poc._median.', 'X.pco2.poc._median.', 'X.pco2.venous.poc._median.', 'X.ph.venous.poc._median.', 'X.phencyclidine.pcp.screen.urine.noconf._median.', 'phosphorus_median', 'platelets_median', 'X.po2.poc._median.', 'X.po2.venous.poc._median.', 'pocbun_median', 'poccreatinine_median', 'pocglucose_median', 'pochematocrit_median', 'pocionizedcalcium_median', 'pocph_median', 'pocpotassium_median', 'pocsodium_median', 'poctroponini._median', 'potassium_median', 'proteintotal_median', 'prothrombintime_median', 'ptt_median', 'rbc_median', 'X.rbc.hpf_median.', 'rdw_median', 'sodium_median', 'X.troponini.poc._median.', 'troponint_median', 'tsh_median', 'wbc_median', 'X.wbc.hpf_median.', 'bloodua_last', 'glucoseua_last', 'ketonesua_last', 'leukocytesua_last', 'nitriteua_last', 'pregtestur_last', 'proteinua_last', 'X.bloodculture.routine_last.', 'X.urineculture.routine_last.', 'bloodua_npos', 'glucoseua_npos', 'ketonesua_npos', 'leukocytesua_npos', 'nitriteua_npos', 'pregtestur_npos', 'proteinua_npos', 'X.bloodculture.routine_npos.', 'X.urineculture.routine_npos.', 'bloodua_count', 'glucoseua_count', 'ketonesua_count', 'leukocytesua_count', 'nitriteua_count', 'pregtestur_count', 'proteinua_count', 'X.bloodculture.routine_count.', 'X.urineculture.routine_count.', 'triage_vital_hr', 'triage_vital_sbp', 'triage_vital_dbp', 'triage_vital_rr', 'triage_vital_o2', 'triage_vital_o2_device', 'triage_vital_temp', 'pulse_last', 'resp_last', 'spo2_last', 'temp_last', 'sbp_last', 'dbp_last', 'o2_device_last', 'pulse_min', 'resp_min', 'spo2_min', 'temp_min', 'sbp_min', 'dbp_min', 'o2_device_min', 'pulse_max', 'resp_max', 'spo2_max', 'temp_max', 'sbp_max', 'dbp_max', 'o2_device_max', 'pulse_median', 'resp_median', 'spo2_median', 'temp_median', 'sbp_median', 'dbp_median', 'o2_device_median', 'cxr_count', 'echo_count', 'ekg_count', 'headct_count', 'mri_count', 'otherct_count', 'otherimg_count', 'otherus_count', 'otherxr_count', 'meds_analgesicandantihistaminecombination', 'meds_analgesics', 'meds_anesthetics', 'X.meds_anti.obesitydrugs.', 'meds_antiallergy', 'meds_antiarthritics', 'meds_antiasthmatics', 'meds_antibiotics', 'meds_anticoagulants', 'meds_antidotes', 'meds_antifungals', 'meds_antihistamineanddecongestantcombination', 'meds_antihistamines', 'meds_antihyperglycemics', 'meds_antiinfectives', 'X.meds_antiinfectives.miscellaneous.', 'meds_antineoplastics', 'meds_antiparkinsondrugs', 'meds_antiplateletdrugs', 'meds_antivirals', 'meds_autonomicdrugs', 'meds_biologicals', 'meds_blood', 'meds_cardiacdrugs', 'meds_cardiovascular', 'meds_cnsdrugs', 'meds_colonystimulatingfactors', 'meds_contraceptives', 'X.meds_cough.coldpreparations.', 'meds_diagnostic', 'meds_diuretics', 'meds_eentpreps', 'X.meds_elect.caloric.h2o.', 'meds_gastrointestinal', 'meds_herbals', 'meds_hormones', 'meds_immunosuppressants', 'meds_investigational', 'X.meds_miscellaneousmedicalsupplies.devices.non.drug.', 'meds_musclerelaxants', 'X.meds_pre.natalvitamins.', 'meds_psychotherapeuticdrugs', 'X.meds_sedative.hypnotics.', 'meds_skinpreps', 'meds_smokingdeterrents', 'meds_thyroidpreps', 'meds_unclassifieddrugproducts', 'meds_vitamins', 'n_surgeries', 'cc_abdominalcramping', 'cc_abdominaldistention', 'cc_abdominalpain', 'cc_abdominalpainpregnant', 'cc_abnormallab', 'cc_abscess', 'cc_addictionproblem', 'cc_agitation', 'cc_alcoholintoxication', 'cc_alcoholproblem', 'cc_allergicreaction', 'cc_alteredmentalstatus', 'cc_animalbite', 'cc_ankleinjury', 'cc_anklepain', 'cc_anxiety', 'cc_arminjury', 'cc_armpain', 'cc_armswelling', 'cc_assaultvictim', 'cc_asthma', 'cc_backpain', 'X.cc_bleeding.bruising.', 'cc_blurredvision', 'cc_bodyfluidexposure', 'cc_breastpain', 'cc_breathingdifficulty', 'cc_breathingproblem', 'cc_burn', 'cc_cardiacarrest', 'cc_cellulitis', 'cc_chestpain', 'cc_chesttightness', 'cc_chills', 'cc_coldlikesymptoms', 'cc_confusion', 'cc_conjunctivitis', 'cc_constipation', 'cc_cough', 'cc_cyst', 'X.cc_decreasedbloodsugar.symptomatic.', 'cc_dehydration', 'cc_dentalpain', 'cc_depression', 'cc_detoxevaluation', 'cc_diarrhea', 'cc_dizziness', 'X.cc_drug.alcoholassessment.', 'cc_drugproblem', 'cc_dyspnea', 'cc_dysuria', 'cc_earpain', 'cc_earproblem', 'cc_edema', 'cc_elbowpain', 'X.cc_elevatedbloodsugar.nosymptoms.', 'X.cc_elevatedbloodsugar.symptomatic.', 'cc_emesis', 'cc_epigastricpain', 'cc_epistaxis', 'cc_exposuretostd', 'cc_extremitylaceration', 'cc_extremityweakness', 'cc_eyeinjury', 'cc_eyepain', 'cc_eyeproblem', 'cc_eyeredness', 'cc_facialinjury', 'cc_faciallaceration', 'cc_facialpain', 'cc_facialswelling', 'cc_fall', 'X.cc_fall.65.', 'cc_fatigue', 'cc_femaleguproblem', 'cc_fever', 'X.cc_fever.75yearsorolder.', 'X.cc_fever.9weeksto74years.', 'cc_feverimmunocompromised', 'cc_fingerinjury', 'cc_fingerpain', 'cc_fingerswelling', 'cc_flankpain', 'X.cc_follow.upcellulitis.', 'cc_footinjury', 'cc_footpain', 'cc_footswelling', 'cc_foreignbodyineye', 'cc_fulltrauma', 'cc_generalizedbodyaches', 'cc_gibleeding', 'cc_giproblem', 'cc_groinpain', 'cc_hallucinations', 'cc_handinjury', 'cc_handpain', 'cc_headache', 'X.cc_headache.newonsetornewsymptoms.', 'X.cc_headache.recurrentorknowndxmigraines.', 'X.cc_headachere.evaluation.', 'cc_headinjury', 'cc_headlaceration', 'cc_hematuria', 'cc_hemoptysis', 'cc_hippain', 'cc_homicidal', 'cc_hyperglycemia', 'cc_hypertension', 'cc_hypotension', 'cc_influenza', 'cc_ingestion', 'cc_insectbite', 'cc_irregularheartbeat', 'cc_jawpain', 'cc_jointswelling', 'cc_kneeinjury', 'cc_kneepain', 'cc_laceration', 'cc_leginjury', 'cc_legpain', 'cc_legswelling', 'cc_lethargy', 'cc_lossofconsciousness', 'cc_maleguproblem', 'cc_mass', 'cc_medicalproblem', 'cc_medicalscreening', 'cc_medicationproblem', 'cc_medicationrefill', 'cc_migraine', 'cc_modifiedtrauma', 'cc_motorcyclecrash', 'cc_motorvehiclecrash', 'cc_multiplefalls', 'cc_nasalcongestion', 'cc_nausea', 'cc_nearsyncope', 'cc_neckpain', 'cc_neurologicproblem', 'cc_numbness', 'cc_oralswelling', 'cc_otalgia', 'cc_other', 'X.cc_overdose.accidental.', 'X.cc_overdose.intentional.', 'cc_pain', 'cc_palpitations', 'cc_panicattack', 'cc_pelvicpain', 'cc_poisoning', 'X.cc_post.opproblem.', 'cc_psychiatricevaluation', 'cc_psychoticsymptoms', 'cc_rapidheartrate', 'cc_rash', 'cc_rectalbleeding', 'cc_rectalpain', 'cc_respiratorydistress', 'cc_ribinjury', 'cc_ribpain', 'X.cc_seizure.newonset.', 'X.cc_seizure.priorhxof.', 'cc_seizures', 'cc_shortnessofbreath', 'cc_shoulderinjury', 'cc_shoulderpain', 'cc_sicklecellpain', 'cc_sinusproblem', 'cc_skinirritation', 'cc_skinproblem', 'cc_sorethroat', 'cc_stdcheck', 'cc_strokealert', 'cc_suicidal', 'X.cc_suture.stapleremoval.', 'cc_swallowedforeignbody', 'cc_syncope', 'cc_tachycardia', 'cc_testiclepain', 'cc_thumbinjury', 'cc_tickremoval', 'cc_toeinjury', 'cc_toepain', 'cc_trauma', 'cc_unresponsive', 'cc_uri', 'cc_urinaryfrequency', 'cc_urinaryretention', 'cc_urinarytractinfection', 'cc_vaginalbleeding', 'cc_vaginaldischarge', 'cc_vaginalpain', 'cc_weakness', 'cc_wheezing', 'X.cc_withdrawal.alcohol.', 'cc_woundcheck', 'cc_woundinfection', 'X.cc_woundre.evaluation.', 'cc_wristinjury', 'cc_wristpain']\n"
     ]
    }
   ],
   "source": [
    "my_list = list(x_train)\n",
    "\n",
    "print (my_list)"
   ]
  },
  {
   "cell_type": "code",
   "execution_count": null,
   "metadata": {},
   "outputs": [],
   "source": [
    "'gender.Male'\n",
    "'ethnicity.Hispanic.or.Latino'\n",
    "'race.American.Indian.or.Alaska.Native'\n",
    "'race.Asian'\n",
    "'race.Black.or.African.American'\n",
    "'race.Native.Hawaiian.or.Other.Pacific.Islander'\n",
    "'race.White.or.Caucasian',\n",
    "'lang.English'\n",
    "\n",
    "'insurance_status.Commercial'\n",
    "'insurance_status.Medicaid'\n",
    "'insurance_status.Medicare'\n",
    "'insurance_status.Other'\n",
    "'insurance_status.Self.pay'\n",
    "'arrivalmode.ambulance'\n",
    "'arrivalmode.Car', 'arrivalmode.Other', 'arrivalmode.Police', 'arrivalmode.Public.Transportation',\n",
    "'arrivalmode.Walk.in', 'arrivalmode.Wheelchair',\n",
    "\n",
    "'employstatus.Full.Time', 'employstatus.Not.Employed',\n"
   ]
  },
  {
   "cell_type": "code",
   "execution_count": 25,
   "metadata": {},
   "outputs": [
    {
     "data": {
      "text/plain": [
       "(64494, 1062)"
      ]
     },
     "execution_count": 25,
     "metadata": {},
     "output_type": "execute_result"
    }
   ],
   "source": [
    "# Visualize hospital demographics\n",
    "y_train_c_vis = y_train_orig.rename(columns={\"as.matrix.y_train.\": \"labels\"}).drop(columns=['Unnamed: 0'])\n",
    "x_train_c_vis = x_train_orig.join(y_train_c_vis)\n",
    "x_train_c_vis = x_train_c_vis[x_train_c_vis['dep_name.C'] == 1]\n",
    "x_train_c_vis.shape"
   ]
  },
  {
   "cell_type": "code",
   "execution_count": 28,
   "metadata": {},
   "outputs": [],
   "source": [
    "tot_patients = 64494"
   ]
  },
  {
   "cell_type": "code",
   "execution_count": 29,
   "metadata": {},
   "outputs": [
    {
     "name": "stdout",
     "output_type": "stream",
     "text": [
      "male:  0.4433280615251031\n",
      "male admitted:  0.16214325685506437\n"
     ]
    }
   ],
   "source": [
    "male = len(x_train_c_vis[x_train_c_vis['gender.Male'] == 1])\n",
    "male_admit = len(x_train_c_vis[(x_train_c_vis['gender.Male'] == 1) & (x_train_c_vis['labels'] == 1)])\n",
    "print(\"male: \", male / tot_patients )\n",
    "print(\"male admitted: \", male_admit / male )\n"
   ]
  },
  {
   "cell_type": "code",
   "execution_count": null,
   "metadata": {},
   "outputs": [],
   "source": []
  },
  {
   "cell_type": "code",
   "execution_count": 30,
   "metadata": {},
   "outputs": [
    {
     "name": "stdout",
     "output_type": "stream",
     "text": [
      "hisp_latino:  0.06048624678264645\n",
      "hisp_latino admitted:  0.09177134068187644\n",
      "native_american_alaskan:  0.0006822340062641486\n",
      "native_american_alaskan admitted:  0.13636363636363635\n",
      "asian:  0.005116755046981115\n",
      "asian admitted:  0.15151515151515152\n",
      "black:  0.02772350916364313\n",
      "black admitted:  0.09675615212527965\n",
      "native_hawaiian:  0.0002635904115111483\n",
      "native_hawaiian admitted:  0.11764705882352941\n",
      "white:  0.899448010667659\n",
      "white admitted:  0.16218173042114153\n"
     ]
    }
   ],
   "source": [
    "hisp_latino = len(x_train_c_vis[x_train_c_vis['ethnicity.Hispanic.or.Latino'] == 1])\n",
    "hisp_latino_admit = len(x_train_c_vis[(x_train_c_vis['ethnicity.Hispanic.or.Latino'] == 1) & (x_train_c_vis['labels'] == 1)])\n",
    "print(\"hisp_latino: \", hisp_latino / tot_patients )\n",
    "print(\"hisp_latino admitted: \", hisp_latino_admit / hisp_latino)\n",
    "\n",
    "native_american_alaskan = len(x_train_c_vis[x_train_c_vis['race.American.Indian.or.Alaska.Native'] == 1])\n",
    "native_american_alaskan_admit = len(x_train_c_vis[(x_train_c_vis['race.American.Indian.or.Alaska.Native'] == 1) & (x_train_c_vis['labels'] == 1)])\n",
    "print(\"native_american_alaskan: \", native_american_alaskan / tot_patients )\n",
    "print(\"native_american_alaskan admitted: \", native_american_alaskan_admit / native_american_alaskan)\n",
    "\n",
    "asian = len(x_train_c_vis[x_train_c_vis['race.Asian'] == 1])\n",
    "asian_admit = len(x_train_c_vis[(x_train_c_vis['race.Asian'] == 1) & (x_train_c_vis['labels'] == 1)])\n",
    "print(\"asian: \", asian / tot_patients )\n",
    "print(\"asian admitted: \", asian_admit / asian)\n",
    "\n",
    "\n",
    "black = len(x_train_c_vis[x_train_c_vis['race.Black.or.African.American'] == 1])\n",
    "black_admit = len(x_train_c_vis[(x_train_c_vis['race.Black.or.African.American'] == 1) & (x_train_c_vis['labels'] == 1)])\n",
    "print(\"black: \", black / tot_patients )\n",
    "print(\"black admitted: \", black_admit / black)\n",
    "\n",
    "native_hawaiian = len(x_train_c_vis[x_train_c_vis['race.Native.Hawaiian.or.Other.Pacific.Islander'] == 1])\n",
    "native_hawaiian_admit = len(x_train_c_vis[(x_train_c_vis['race.Native.Hawaiian.or.Other.Pacific.Islander'] == 1) & (x_train_c_vis['labels'] == 1)])\n",
    "print(\"native_hawaiian: \", native_hawaiian / tot_patients )\n",
    "print(\"native_hawaiian admitted: \", native_hawaiian_admit / native_hawaiian)\n",
    "\n",
    "white = len(x_train_c_vis[x_train_c_vis['race.White.or.Caucasian'] == 1])\n",
    "white_admit = len(x_train_c_vis[(x_train_c_vis['race.White.or.Caucasian'] == 1) & (x_train_c_vis['labels'] == 1)])\n",
    "print(\"white: \", white / tot_patients )\n",
    "print(\"white admitted: \", white_admit / white)\n"
   ]
  },
  {
   "cell_type": "code",
   "execution_count": 32,
   "metadata": {},
   "outputs": [
    {
     "name": "stdout",
     "output_type": "stream",
     "text": [
      "commercial:  0.5266846528359227\n",
      "commercial admitted:  0.13707018370230806\n",
      "medicaid:  0.16722485812633733\n",
      "medicaid admitted:  0.08400556328233658\n",
      "medicare:  0.2520854653146029\n",
      "medicare admitted:  0.263439537458482\n",
      "other:  0.053307284398548704\n",
      "other admitted:  0.0477021524141943\n",
      "self pay:  0.0006977393245883338\n",
      "self pay admitted:  0.9777777777777777\n"
     ]
    }
   ],
   "source": [
    "commercial = len(x_train_c_vis[x_train_c_vis['insurance_status.Commercial'] == 1])\n",
    "commercial_admit = len(x_train_c_vis[(x_train_c_vis['insurance_status.Commercial'] == 1) & (x_train_c_vis['labels'] == 1)])\n",
    "print(\"commercial: \", commercial / tot_patients )\n",
    "print(\"commercial admitted: \", commercial_admit / commercial)\n",
    "\n",
    "medicaid = len(x_train_c_vis[x_train_c_vis['insurance_status.Medicaid'] == 1])\n",
    "medicaid_admit = len(x_train_c_vis[(x_train_c_vis['insurance_status.Medicaid'] == 1) & (x_train_c_vis['labels'] == 1)])\n",
    "print(\"medicaid: \", medicaid / tot_patients )\n",
    "print(\"medicaid admitted: \", medicaid_admit / medicaid)\n",
    "\n",
    "medicare = len(x_train_c_vis[x_train_c_vis['insurance_status.Medicare'] == 1])\n",
    "medicare_admit = len(x_train_c_vis[(x_train_c_vis['insurance_status.Medicare'] == 1) & (x_train_c_vis['labels'] == 1)])\n",
    "print(\"medicare: \", medicare / tot_patients )\n",
    "print(\"medicare admitted: \", medicare_admit / medicare)\n",
    "\n",
    "other = len(x_train_c_vis[x_train_c_vis['insurance_status.Other'] == 1])\n",
    "other_admit = len(x_train_c_vis[(x_train_c_vis['insurance_status.Other'] == 1) & (x_train_c_vis['labels'] == 1)])\n",
    "print(\"other: \", other / tot_patients )\n",
    "print(\"other admitted: \", other_admit / other)\n",
    "\n",
    "self_pay = len(x_train_c_vis[x_train_c_vis['insurance_status.Self.pay'] == 1])\n",
    "self_pay_admit = len(x_train_c_vis[(x_train_c_vis['insurance_status.Self.pay'] == 1) & (x_train_c_vis['labels'] == 1)])\n",
    "print(\"self pay: \", self_pay / tot_patients )\n",
    "print(\"self pay admitted: \", self_pay_admit / self_pay)\n",
    "\n"
   ]
  },
  {
   "cell_type": "code",
   "execution_count": 30,
   "metadata": {},
   "outputs": [],
   "source": [
    "y_train = y_train_orig.rename(columns={\"as.matrix.y_train.\": \"labels\"}).drop(columns=['Unnamed: 0'])"
   ]
  },
  {
   "cell_type": "code",
   "execution_count": 31,
   "metadata": {},
   "outputs": [],
   "source": [
    "x_train = x_train_orig.join(y_train)"
   ]
  },
  {
   "cell_type": "code",
   "execution_count": 32,
   "metadata": {},
   "outputs": [],
   "source": [
    "x_test = x_train.copy()"
   ]
  },
  {
   "cell_type": "code",
   "execution_count": 33,
   "metadata": {},
   "outputs": [
    {
     "data": {
      "text/plain": [
       "(504486, 1062)"
      ]
     },
     "execution_count": 33,
     "metadata": {},
     "output_type": "execute_result"
    }
   ],
   "source": [
    "x_test.shape"
   ]
  },
  {
   "cell_type": "code",
   "execution_count": 34,
   "metadata": {},
   "outputs": [],
   "source": [
    "x_train = x_train[x_train['dep_name.C'] == 0]"
   ]
  },
  {
   "cell_type": "code",
   "execution_count": 35,
   "metadata": {},
   "outputs": [],
   "source": [
    "x_test = x_test[x_test['dep_name.C'] == 1]"
   ]
  },
  {
   "cell_type": "code",
   "execution_count": 36,
   "metadata": {},
   "outputs": [
    {
     "data": {
      "text/plain": [
       "(439992, 1062)"
      ]
     },
     "execution_count": 36,
     "metadata": {},
     "output_type": "execute_result"
    }
   ],
   "source": [
    "x_train.shape"
   ]
  },
  {
   "cell_type": "code",
   "execution_count": 37,
   "metadata": {},
   "outputs": [
    {
     "data": {
      "text/plain": [
       "(64494, 1062)"
      ]
     },
     "execution_count": 37,
     "metadata": {},
     "output_type": "execute_result"
    }
   ],
   "source": [
    "x_test.shape"
   ]
  },
  {
   "cell_type": "code",
   "execution_count": 38,
   "metadata": {},
   "outputs": [],
   "source": [
    "# import scipy.sparse as sparse\n",
    "# import matplotlib.pyplot as plt\n",
    "# %matplotlib inline"
   ]
  },
  {
   "cell_type": "code",
   "execution_count": 39,
   "metadata": {},
   "outputs": [],
   "source": [
    "# x_train_array = x_train.to_numpy()"
   ]
  },
  {
   "cell_type": "code",
   "execution_count": 40,
   "metadata": {},
   "outputs": [],
   "source": [
    "## plt.figure(figsize=(15, 15))\n",
    "# plt.spy(x_train_array, precision = 0.1, markersize = 5)"
   ]
  },
  {
   "cell_type": "code",
   "execution_count": 41,
   "metadata": {},
   "outputs": [],
   "source": [
    "y_train = pd.DataFrame(data=x_train['labels'])"
   ]
  },
  {
   "cell_type": "code",
   "execution_count": 42,
   "metadata": {},
   "outputs": [],
   "source": [
    "y_test = pd.DataFrame(data=x_test['labels'])"
   ]
  },
  {
   "cell_type": "code",
   "execution_count": 43,
   "metadata": {},
   "outputs": [],
   "source": [
    "x_train = x_train.drop(['labels'], axis=1)"
   ]
  },
  {
   "cell_type": "code",
   "execution_count": 44,
   "metadata": {},
   "outputs": [],
   "source": [
    "x_test = x_test.drop(['labels'], axis=1)"
   ]
  },
  {
   "cell_type": "code",
   "execution_count": 81,
   "metadata": {},
   "outputs": [
    {
     "data": {
      "text/plain": [
       "(64494, 1)"
      ]
     },
     "execution_count": 81,
     "metadata": {},
     "output_type": "execute_result"
    }
   ],
   "source": [
    "y_test.shape"
   ]
  },
  {
   "cell_type": "code",
   "execution_count": null,
   "metadata": {},
   "outputs": [],
   "source": []
  },
  {
   "cell_type": "code",
   "execution_count": 46,
   "metadata": {},
   "outputs": [],
   "source": [
    "# a: (290107, 1061)\n",
    "# b: (149885, 1061)\n",
    "# c: (64494, 1061)"
   ]
  },
  {
   "cell_type": "code",
   "execution_count": 47,
   "metadata": {},
   "outputs": [
    {
     "name": "stdout",
     "output_type": "stream",
     "text": [
      "[22:48:10] WARNING: /Users/travis/build/dmlc/xgboost/src/learner.cc:516: \n",
      "Parameters: { nrounds } might not be used.\n",
      "\n",
      "  This may not be accurate due to some parameters are only used in language bindings but\n",
      "  passed down to XGBoost core.  Or some parameters are not used but slip through this\n",
      "  verification. Please open an issue if you find above cases.\n",
      "\n",
      "\n"
     ]
    },
    {
     "data": {
      "text/plain": [
       "XGBClassifier(base_score=0.5, booster='gbtree', colsample_bylevel=0.05,\n",
       "              colsample_bynode=1, colsample_bytree=1, eta=0.3,\n",
       "              eval_metric='auc', gamma=0, gpu_id=-1, importance_type='gain',\n",
       "              interaction_constraints='', learning_rate=0.300000012,\n",
       "              max_delta_step=0, max_depth=20, min_child_weight=1, missing=nan,\n",
       "              monotone_constraints='()', n_estimators=100, n_jobs=5, nrounds=30,\n",
       "              nthread=5, num_parallel_tree=1, random_state=0, reg_alpha=0,\n",
       "              reg_lambda=1, scale_pos_weight=1, subsample=1,\n",
       "              tree_method='exact', validate_parameters=1, verbosity=None)"
      ]
     },
     "execution_count": 47,
     "metadata": {},
     "output_type": "execute_result"
    }
   ],
   "source": [
    "# fit model no training data\n",
    "model = XGBClassifier(max_depth = 20, eta = 0.3,\n",
    "               nthread = 5, nrounds = 30,\n",
    "               eval_metric = 'auc',\n",
    "               objective = \"binary:logistic\",\n",
    "               colsample_bylevel = 0.05)\n",
    "model.fit(x_train, y_train.values.ravel())"
   ]
  },
  {
   "cell_type": "code",
   "execution_count": 48,
   "metadata": {},
   "outputs": [],
   "source": [
    "y_pred = model.predict(x_test)\n",
    "predictions = [round(value) for value in y_pred]"
   ]
  },
  {
   "cell_type": "code",
   "execution_count": 49,
   "metadata": {},
   "outputs": [
    {
     "name": "stdout",
     "output_type": "stream",
     "text": [
      "Accuracy: 88.11%\n"
     ]
    }
   ],
   "source": [
    "# evaluate predictions\n",
    "accuracy = accuracy_score(y_test, predictions)\n",
    "print(\"Accuracy: %.2f%%\" % (accuracy * 100.0))"
   ]
  },
  {
   "cell_type": "code",
   "execution_count": 50,
   "metadata": {},
   "outputs": [
    {
     "name": "stdout",
     "output_type": "stream",
     "text": [
      "AUC: 0.779\n"
     ]
    }
   ],
   "source": [
    "# calculate roc curve\n",
    "fpr_C, tpr_C, thresholds_C = roc_curve(y_test, y_pred)\n",
    "\n",
    "auc_C = roc_auc_score(y_test, y_pred)\n",
    "print('AUC: %.3f' % auc_C)"
   ]
  },
  {
   "cell_type": "code",
   "execution_count": 51,
   "metadata": {},
   "outputs": [
    {
     "data": {
      "image/png": "[encoded data removed]",
      "text/plain": [
       "<Figure size 432x288 with 1 Axes>"
      ]
     },
     "metadata": {
      "needs_background": "light"
     },
     "output_type": "display_data"
    }
   ],
   "source": [
    "pyplot.plot(fpr_C, tpr_C, linestyle='--', label='Hosp. C')\n",
    "\n",
    "# axis labels\n",
    "pyplot.xlabel('False Positive Rate')\n",
    "pyplot.ylabel('True Positive Rate')\n",
    "pyplot.title('Predicting Hospital C')\n",
    "# show the legend\n",
    "pyplot.legend()\n",
    "# show the plot\n",
    "pyplot.show()"
   ]
  },
  {
   "cell_type": "code",
   "execution_count": 53,
   "metadata": {},
   "outputs": [
    {
     "name": "stdout",
     "output_type": "stream",
     "text": [
      "sensitivity (C):  0.631154879140555\n",
      "specificity (C):  0.9272239672305799\n"
     ]
    }
   ],
   "source": [
    "from sklearn.metrics import confusion_matrix\n",
    "\n",
    "tn_c, fp_c, fn_c, tp_c = confusion_matrix(y_test, y_pred).ravel()\n",
    "\n",
    "sensitivity_c = tp_c / (tp_c+fn_c)\n",
    "print('sensitivity (C): ', sensitivity_c)\n",
    "\n",
    "specificity_c = tn_c / (tn_c+fp_c)\n",
    "print('specificity (C): ', specificity_c)\n"
   ]
  },
  {
   "cell_type": "code",
   "execution_count": null,
   "metadata": {},
   "outputs": [],
   "source": [
    "# #2) Fit model on all data except test set, using the optimized hyperparameters\n",
    "\n",
    "# bst <- xgboost(data = x_train, label = y_train,\n",
    "#                max_depth = 20, eta = 0.3,\n",
    "#                nthread = 5, nrounds = 30,\n",
    "#                eval_metric = 'auc',\n",
    "#                objective = \"binary:logistic\",\n",
    "#                colsample_bylevel = 0.05)\n",
    "\n",
    "# bst_pred_test <- predict(bst, x_test)\n",
    "# roc(y_test, bst_pred_test)\n",
    "# ci.auc(roc(y_test, bst_pred_test), conf.level = 0.95)"
   ]
  },
  {
   "cell_type": "code",
   "execution_count": 77,
   "metadata": {},
   "outputs": [
    {
     "name": "stdout",
     "output_type": "stream",
     "text": [
      "C admit rate: 0.318287605229186\n"
     ]
    }
   ],
   "source": [
    "print(\"C admit rate:\", len(y_train[y_train['labels']>0])/len(y_train))"
   ]
  },
  {
   "cell_type": "markdown",
   "metadata": {},
   "source": [
    "### PREDICTING HOSPITAL A"
   ]
  },
  {
   "cell_type": "code",
   "execution_count": 18,
   "metadata": {},
   "outputs": [],
   "source": [
    "y_train_a = y_train_orig.rename(columns={\"as.matrix.y_train.\": \"labels\"}).drop(columns=['Unnamed: 0'])\n",
    "\n",
    "x_train_a = x_train_orig.join(y_train_a)\n",
    "\n",
    "x_test_a = x_train_a.copy()\n",
    "\n",
    "x_train_a = x_train_a[x_train_a['dep_name.A'] == 0]\n",
    "\n",
    "x_test_a = x_test_a[x_test_a['dep_name.A'] == 1]"
   ]
  },
  {
   "cell_type": "code",
   "execution_count": 20,
   "metadata": {},
   "outputs": [
    {
     "data": {
      "text/plain": [
       "214379"
      ]
     },
     "execution_count": 20,
     "metadata": {},
     "output_type": "execute_result"
    }
   ],
   "source": [
    "len(x_train_a)"
   ]
  },
  {
   "cell_type": "code",
   "execution_count": 56,
   "metadata": {},
   "outputs": [],
   "source": [
    "y_train_a = pd.DataFrame(data=x_train_a['labels'])\n",
    "y_test_a = pd.DataFrame(data=x_test_a['labels'])"
   ]
  },
  {
   "cell_type": "code",
   "execution_count": 33,
   "metadata": {},
   "outputs": [
    {
     "data": {
      "text/plain": [
       "(290107, 1062)"
      ]
     },
     "execution_count": 33,
     "metadata": {},
     "output_type": "execute_result"
    }
   ],
   "source": [
    "y_train_a = y_train_orig.rename(columns={\"as.matrix.y_train.\": \"labels\"}).drop(columns=['Unnamed: 0'])\n",
    "\n",
    "x_train_a = x_train_orig.join(y_train_a)\n",
    "\n",
    "x_test_a = x_train_a.copy()\n",
    "x_train_a = x_train_a[x_train_a['dep_name.A'] == 1]\n",
    "\n",
    "x_train_a.shape"
   ]
  },
  {
   "cell_type": "code",
   "execution_count": 34,
   "metadata": {},
   "outputs": [
    {
     "name": "stdout",
     "output_type": "stream",
     "text": [
      "male:  0.46385299217185383\n",
      "male admitted:  0.3291297271990904\n",
      "hisp_latino:  0.19006090856132393\n",
      "hisp_latino admitted:  0.21932242736406835\n",
      "native_american_alaskan:  0.0009651611302036834\n",
      "native_american_alaskan admitted:  0.3607142857142857\n",
      "asian:  0.014708366223496848\n",
      "asian admitted:  0.22287321303023203\n",
      "black:  0.27223059078202183\n",
      "black admitted:  0.2663720623987034\n",
      "native_hawaiian:  0.0007548938839807382\n",
      "native_hawaiian admitted:  0.2420091324200913\n",
      "white:  0.5114733529352963\n",
      "white admitted:  0.38964294860562604\n",
      "commercial:  0.33895080091138785\n",
      "commercial admitted:  0.3151161371679616\n",
      "medicaid:  0.3420944685926227\n",
      "medicaid admitted:  0.24804522187739309\n",
      "medicare:  0.20347320126711868\n",
      "medicare admitted:  0.5716681631062698\n",
      "other:  0.11154505061925428\n",
      "other admitted:  0.06684177997527813\n",
      "self pay:  0.003936478609616452\n",
      "self pay admitted:  0.9588441330998249\n"
     ]
    }
   ],
   "source": [
    "x_train_c_vis = x_train_a\n",
    "tot_patients = len(x_train_c_vis)\n",
    "\n",
    "male = len(x_train_c_vis[x_train_c_vis['gender.Male'] == 1])\n",
    "male_admit = len(x_train_c_vis[(x_train_c_vis['gender.Male'] == 1) & (x_train_c_vis['labels'] == 1)])\n",
    "print(\"male: \", male / tot_patients )\n",
    "print(\"male admitted: \", male_admit / male )\n",
    "\n",
    "hisp_latino = len(x_train_c_vis[x_train_c_vis['ethnicity.Hispanic.or.Latino'] == 1])\n",
    "hisp_latino_admit = len(x_train_c_vis[(x_train_c_vis['ethnicity.Hispanic.or.Latino'] == 1) & (x_train_c_vis['labels'] == 1)])\n",
    "print(\"hisp_latino: \", hisp_latino / tot_patients )\n",
    "print(\"hisp_latino admitted: \", hisp_latino_admit / hisp_latino)\n",
    "\n",
    "native_american_alaskan = len(x_train_c_vis[x_train_c_vis['race.American.Indian.or.Alaska.Native'] == 1])\n",
    "native_american_alaskan_admit = len(x_train_c_vis[(x_train_c_vis['race.American.Indian.or.Alaska.Native'] == 1) & (x_train_c_vis['labels'] == 1)])\n",
    "print(\"native_american_alaskan: \", native_american_alaskan / tot_patients )\n",
    "print(\"native_american_alaskan admitted: \", native_american_alaskan_admit / native_american_alaskan)\n",
    "\n",
    "asian = len(x_train_c_vis[x_train_c_vis['race.Asian'] == 1])\n",
    "asian_admit = len(x_train_c_vis[(x_train_c_vis['race.Asian'] == 1) & (x_train_c_vis['labels'] == 1)])\n",
    "print(\"asian: \", asian / tot_patients )\n",
    "print(\"asian admitted: \", asian_admit / asian)\n",
    "\n",
    "\n",
    "black = len(x_train_c_vis[x_train_c_vis['race.Black.or.African.American'] == 1])\n",
    "black_admit = len(x_train_c_vis[(x_train_c_vis['race.Black.or.African.American'] == 1) & (x_train_c_vis['labels'] == 1)])\n",
    "print(\"black: \", black / tot_patients )\n",
    "print(\"black admitted: \", black_admit / black)\n",
    "\n",
    "native_hawaiian = len(x_train_c_vis[x_train_c_vis['race.Native.Hawaiian.or.Other.Pacific.Islander'] == 1])\n",
    "native_hawaiian_admit = len(x_train_c_vis[(x_train_c_vis['race.Native.Hawaiian.or.Other.Pacific.Islander'] == 1) & (x_train_c_vis['labels'] == 1)])\n",
    "print(\"native_hawaiian: \", native_hawaiian / tot_patients )\n",
    "print(\"native_hawaiian admitted: \", native_hawaiian_admit / native_hawaiian)\n",
    "\n",
    "white = len(x_train_c_vis[x_train_c_vis['race.White.or.Caucasian'] == 1])\n",
    "white_admit = len(x_train_c_vis[(x_train_c_vis['race.White.or.Caucasian'] == 1) & (x_train_c_vis['labels'] == 1)])\n",
    "print(\"white: \", white / tot_patients )\n",
    "print(\"white admitted: \", white_admit / white)\n",
    "\n",
    "commercial = len(x_train_c_vis[x_train_c_vis['insurance_status.Commercial'] == 1])\n",
    "commercial_admit = len(x_train_c_vis[(x_train_c_vis['insurance_status.Commercial'] == 1) & (x_train_c_vis['labels'] == 1)])\n",
    "print(\"commercial: \", commercial / tot_patients )\n",
    "print(\"commercial admitted: \", commercial_admit / commercial)\n",
    "\n",
    "medicaid = len(x_train_c_vis[x_train_c_vis['insurance_status.Medicaid'] == 1])\n",
    "medicaid_admit = len(x_train_c_vis[(x_train_c_vis['insurance_status.Medicaid'] == 1) & (x_train_c_vis['labels'] == 1)])\n",
    "print(\"medicaid: \", medicaid / tot_patients )\n",
    "print(\"medicaid admitted: \", medicaid_admit / medicaid)\n",
    "\n",
    "medicare = len(x_train_c_vis[x_train_c_vis['insurance_status.Medicare'] == 1])\n",
    "medicare_admit = len(x_train_c_vis[(x_train_c_vis['insurance_status.Medicare'] == 1) & (x_train_c_vis['labels'] == 1)])\n",
    "print(\"medicare: \", medicare / tot_patients )\n",
    "print(\"medicare admitted: \", medicare_admit / medicare)\n",
    "\n",
    "other = len(x_train_c_vis[x_train_c_vis['insurance_status.Other'] == 1])\n",
    "other_admit = len(x_train_c_vis[(x_train_c_vis['insurance_status.Other'] == 1) & (x_train_c_vis['labels'] == 1)])\n",
    "print(\"other: \", other / tot_patients )\n",
    "print(\"other admitted: \", other_admit / other)\n",
    "\n",
    "self_pay = len(x_train_c_vis[x_train_c_vis['insurance_status.Self.pay'] == 1])\n",
    "self_pay_admit = len(x_train_c_vis[(x_train_c_vis['insurance_status.Self.pay'] == 1) & (x_train_c_vis['labels'] == 1)])\n",
    "print(\"self pay: \", self_pay / tot_patients )\n",
    "print(\"self pay admitted: \", self_pay_admit / self_pay)"
   ]
  },
  {
   "cell_type": "code",
   "execution_count": 57,
   "metadata": {},
   "outputs": [],
   "source": [
    "x_train_a = x_train_a.drop(['labels'], axis=1)\n",
    "x_test_a = x_test_a.drop(['labels'], axis=1)"
   ]
  },
  {
   "cell_type": "code",
   "execution_count": 58,
   "metadata": {},
   "outputs": [
    {
     "name": "stdout",
     "output_type": "stream",
     "text": [
      "[23:21:32] WARNING: /Users/travis/build/dmlc/xgboost/src/learner.cc:516: \n",
      "Parameters: { nrounds } might not be used.\n",
      "\n",
      "  This may not be accurate due to some parameters are only used in language bindings but\n",
      "  passed down to XGBoost core.  Or some parameters are not used but slip through this\n",
      "  verification. Please open an issue if you find above cases.\n",
      "\n",
      "\n"
     ]
    },
    {
     "data": {
      "text/plain": [
       "XGBClassifier(base_score=0.5, booster='gbtree', colsample_bylevel=0.05,\n",
       "              colsample_bynode=1, colsample_bytree=1, eta=0.3,\n",
       "              eval_metric='auc', gamma=0, gpu_id=-1, importance_type='gain',\n",
       "              interaction_constraints='', learning_rate=0.300000012,\n",
       "              max_delta_step=0, max_depth=20, min_child_weight=1, missing=nan,\n",
       "              monotone_constraints='()', n_estimators=100, n_jobs=5, nrounds=30,\n",
       "              nthread=5, num_parallel_tree=1, random_state=0, reg_alpha=0,\n",
       "              reg_lambda=1, scale_pos_weight=1, subsample=1,\n",
       "              tree_method='exact', validate_parameters=1, verbosity=None)"
      ]
     },
     "execution_count": 58,
     "metadata": {},
     "output_type": "execute_result"
    }
   ],
   "source": [
    "# fit model no training data\n",
    "model_a = XGBClassifier(max_depth = 20, eta = 0.3,\n",
    "               nthread = 5, nrounds = 30,\n",
    "               eval_metric = 'auc',\n",
    "               objective = \"binary:logistic\",\n",
    "               colsample_bylevel = 0.05)\n",
    "model_a.fit(x_train_a, y_train_a.values.ravel())"
   ]
  },
  {
   "cell_type": "code",
   "execution_count": 59,
   "metadata": {},
   "outputs": [
    {
     "name": "stdout",
     "output_type": "stream",
     "text": [
      "Accuracy (A): 96.37%\n"
     ]
    }
   ],
   "source": [
    "y_pred_a = model.predict(x_test_a)\n",
    "predictions_a = [round(value) for value in y_pred_a]\n",
    "\n",
    "# evaluate predictions\n",
    "accuracy_a = accuracy_score(y_test_a, predictions_a)\n",
    "print(\"Accuracy (A): %.2f%%\" % (accuracy_a * 100.0))"
   ]
  },
  {
   "cell_type": "code",
   "execution_count": 60,
   "metadata": {},
   "outputs": [
    {
     "name": "stdout",
     "output_type": "stream",
     "text": [
      "AUC (A): 0.948\n"
     ]
    }
   ],
   "source": [
    "# calculate roc curve\n",
    "fpr_a, tpr_a, thresholds_a = roc_curve(y_test_a, y_pred_a)\n",
    "\n",
    "auc_a = roc_auc_score(y_test_a, y_pred_a)\n",
    "print('AUC (A): %.3f' % auc_a)"
   ]
  },
  {
   "cell_type": "code",
   "execution_count": 61,
   "metadata": {},
   "outputs": [
    {
     "data": {
      "image/png": "[encoded data removed]",
      "text/plain": [
       "<Figure size 432x288 with 1 Axes>"
      ]
     },
     "metadata": {
      "needs_background": "light"
     },
     "output_type": "display_data"
    }
   ],
   "source": [
    "pyplot.plot(fpr_a, tpr_a, linestyle='--', label='Hosp. A')\n",
    "\n",
    "# axis labels\n",
    "pyplot.xlabel('False Positive Rate')\n",
    "pyplot.ylabel('True Positive Rate')\n",
    "pyplot.title('Predicting Hospital A')\n",
    "# show the legend\n",
    "pyplot.legend()\n",
    "# show the plot\n",
    "pyplot.show()"
   ]
  },
  {
   "cell_type": "code",
   "execution_count": 63,
   "metadata": {},
   "outputs": [
    {
     "name": "stdout",
     "output_type": "stream",
     "text": [
      "sensitivity (A):  0.9054488910005831\n",
      "specificity (A):  0.9910025772021408\n"
     ]
    }
   ],
   "source": [
    "tn_a, fp_a, fn_a, tp_a = confusion_matrix(y_test_a, y_pred_a).ravel()\n",
    "\n",
    "sensitivity_a = tp_a / (tp_a+fn_a)\n",
    "print('sensitivity (A): ', sensitivity_a)\n",
    "\n",
    "specificity_a = tn_a / (tn_a+fp_a)\n",
    "print('specificity (A): ', specificity_a)"
   ]
  },
  {
   "cell_type": "code",
   "execution_count": 74,
   "metadata": {},
   "outputs": [
    {
     "name": "stdout",
     "output_type": "stream",
     "text": [
      "A admit rate: 0.2681745879960257\n"
     ]
    }
   ],
   "source": [
    "print(\"A admit rate:\", len(y_train_a[y_train_a['labels']>0])/len(y_train_a))"
   ]
  },
  {
   "cell_type": "code",
   "execution_count": 57,
   "metadata": {},
   "outputs": [],
   "source": [
    "### PREDICTING HOSPITAL B"
   ]
  },
  {
   "cell_type": "code",
   "execution_count": 21,
   "metadata": {},
   "outputs": [],
   "source": [
    "y_train_b = y_train_orig.rename(columns={\"as.matrix.y_train.\": \"labels\"}).drop(columns=['Unnamed: 0'])\n",
    "\n",
    "x_train_b = x_train_orig.join(y_train_b)\n",
    "\n",
    "x_test_b = x_train_b.copy()\n",
    "\n",
    "x_train_b = x_train_b[x_train_b['dep_name.B'] == 0]\n",
    "\n",
    "x_test_b = x_test_b[x_test_b['dep_name.B'] == 1]"
   ]
  },
  {
   "cell_type": "code",
   "execution_count": 23,
   "metadata": {},
   "outputs": [
    {
     "data": {
      "text/plain": [
       "(354601, 1062)"
      ]
     },
     "execution_count": 23,
     "metadata": {},
     "output_type": "execute_result"
    }
   ],
   "source": [
    "x_train_b.shape"
   ]
  },
  {
   "cell_type": "code",
   "execution_count": 35,
   "metadata": {},
   "outputs": [
    {
     "data": {
      "text/plain": [
       "(149885, 1062)"
      ]
     },
     "execution_count": 35,
     "metadata": {},
     "output_type": "execute_result"
    }
   ],
   "source": [
    "y_train_b = y_train_orig.rename(columns={\"as.matrix.y_train.\": \"labels\"}).drop(columns=['Unnamed: 0'])\n",
    "\n",
    "x_train_b = x_train_orig.join(y_train_b)\n",
    "\n",
    "x_test_b = x_train_b.copy()\n",
    "\n",
    "x_train_b = x_train_b[x_train_b['dep_name.B'] == 1]\n",
    "\n",
    "x_train_b.shape"
   ]
  },
  {
   "cell_type": "code",
   "execution_count": 36,
   "metadata": {},
   "outputs": [
    {
     "name": "stdout",
     "output_type": "stream",
     "text": [
      "male:  0.4171531507489075\n",
      "male admitted:  0.32790083966413436\n",
      "hisp_latino:  0.16917636854922108\n",
      "hisp_latino admitted:  0.18637851480853412\n",
      "native_american_alaskan:  0.0008873469660072722\n",
      "native_american_alaskan admitted:  0.23308270676691728\n",
      "asian:  0.003929679420889349\n",
      "asian admitted:  0.3565365025466893\n",
      "black:  0.4087934082796811\n",
      "black admitted:  0.20671758715236976\n",
      "native_hawaiian:  0.0006404910431330687\n",
      "native_hawaiian admitted:  0.20833333333333334\n",
      "white:  0.42205691029789505\n",
      "white admitted:  0.4690167562440721\n",
      "commercial:  0.25801114187543783\n",
      "commercial admitted:  0.38730864708316093\n",
      "medicaid:  0.4361410414651233\n",
      "medicaid admitted:  0.1721252543176638\n",
      "medicare:  0.236047636521333\n",
      "medicare admitted:  0.5664499717354438\n",
      "other:  0.06742502585315409\n",
      "other admitted:  0.08292103700771819\n",
      "self pay:  0.0023751542849517965\n",
      "self pay admitted:  0.9241573033707865\n"
     ]
    }
   ],
   "source": [
    "x_train_c_vis = x_train_b\n",
    "tot_patients = len(x_train_c_vis)\n",
    "\n",
    "male = len(x_train_c_vis[x_train_c_vis['gender.Male'] == 1])\n",
    "male_admit = len(x_train_c_vis[(x_train_c_vis['gender.Male'] == 1) & (x_train_c_vis['labels'] == 1)])\n",
    "print(\"male: \", male / tot_patients )\n",
    "print(\"male admitted: \", male_admit / male )\n",
    "\n",
    "hisp_latino = len(x_train_c_vis[x_train_c_vis['ethnicity.Hispanic.or.Latino'] == 1])\n",
    "hisp_latino_admit = len(x_train_c_vis[(x_train_c_vis['ethnicity.Hispanic.or.Latino'] == 1) & (x_train_c_vis['labels'] == 1)])\n",
    "print(\"hisp_latino: \", hisp_latino / tot_patients )\n",
    "print(\"hisp_latino admitted: \", hisp_latino_admit / hisp_latino)\n",
    "\n",
    "native_american_alaskan = len(x_train_c_vis[x_train_c_vis['race.American.Indian.or.Alaska.Native'] == 1])\n",
    "native_american_alaskan_admit = len(x_train_c_vis[(x_train_c_vis['race.American.Indian.or.Alaska.Native'] == 1) & (x_train_c_vis['labels'] == 1)])\n",
    "print(\"native_american_alaskan: \", native_american_alaskan / tot_patients )\n",
    "print(\"native_american_alaskan admitted: \", native_american_alaskan_admit / native_american_alaskan)\n",
    "\n",
    "asian = len(x_train_c_vis[x_train_c_vis['race.Asian'] == 1])\n",
    "asian_admit = len(x_train_c_vis[(x_train_c_vis['race.Asian'] == 1) & (x_train_c_vis['labels'] == 1)])\n",
    "print(\"asian: \", asian / tot_patients )\n",
    "print(\"asian admitted: \", asian_admit / asian)\n",
    "\n",
    "\n",
    "black = len(x_train_c_vis[x_train_c_vis['race.Black.or.African.American'] == 1])\n",
    "black_admit = len(x_train_c_vis[(x_train_c_vis['race.Black.or.African.American'] == 1) & (x_train_c_vis['labels'] == 1)])\n",
    "print(\"black: \", black / tot_patients )\n",
    "print(\"black admitted: \", black_admit / black)\n",
    "\n",
    "native_hawaiian = len(x_train_c_vis[x_train_c_vis['race.Native.Hawaiian.or.Other.Pacific.Islander'] == 1])\n",
    "native_hawaiian_admit = len(x_train_c_vis[(x_train_c_vis['race.Native.Hawaiian.or.Other.Pacific.Islander'] == 1) & (x_train_c_vis['labels'] == 1)])\n",
    "print(\"native_hawaiian: \", native_hawaiian / tot_patients )\n",
    "print(\"native_hawaiian admitted: \", native_hawaiian_admit / native_hawaiian)\n",
    "\n",
    "white = len(x_train_c_vis[x_train_c_vis['race.White.or.Caucasian'] == 1])\n",
    "white_admit = len(x_train_c_vis[(x_train_c_vis['race.White.or.Caucasian'] == 1) & (x_train_c_vis['labels'] == 1)])\n",
    "print(\"white: \", white / tot_patients )\n",
    "print(\"white admitted: \", white_admit / white)\n",
    "\n",
    "commercial = len(x_train_c_vis[x_train_c_vis['insurance_status.Commercial'] == 1])\n",
    "commercial_admit = len(x_train_c_vis[(x_train_c_vis['insurance_status.Commercial'] == 1) & (x_train_c_vis['labels'] == 1)])\n",
    "print(\"commercial: \", commercial / tot_patients )\n",
    "print(\"commercial admitted: \", commercial_admit / commercial)\n",
    "\n",
    "medicaid = len(x_train_c_vis[x_train_c_vis['insurance_status.Medicaid'] == 1])\n",
    "medicaid_admit = len(x_train_c_vis[(x_train_c_vis['insurance_status.Medicaid'] == 1) & (x_train_c_vis['labels'] == 1)])\n",
    "print(\"medicaid: \", medicaid / tot_patients )\n",
    "print(\"medicaid admitted: \", medicaid_admit / medicaid)\n",
    "\n",
    "medicare = len(x_train_c_vis[x_train_c_vis['insurance_status.Medicare'] == 1])\n",
    "medicare_admit = len(x_train_c_vis[(x_train_c_vis['insurance_status.Medicare'] == 1) & (x_train_c_vis['labels'] == 1)])\n",
    "print(\"medicare: \", medicare / tot_patients )\n",
    "print(\"medicare admitted: \", medicare_admit / medicare)\n",
    "\n",
    "other = len(x_train_c_vis[x_train_c_vis['insurance_status.Other'] == 1])\n",
    "other_admit = len(x_train_c_vis[(x_train_c_vis['insurance_status.Other'] == 1) & (x_train_c_vis['labels'] == 1)])\n",
    "print(\"other: \", other / tot_patients )\n",
    "print(\"other admitted: \", other_admit / other)\n",
    "\n",
    "self_pay = len(x_train_c_vis[x_train_c_vis['insurance_status.Self.pay'] == 1])\n",
    "self_pay_admit = len(x_train_c_vis[(x_train_c_vis['insurance_status.Self.pay'] == 1) & (x_train_c_vis['labels'] == 1)])\n",
    "print(\"self pay: \", self_pay / tot_patients )\n",
    "print(\"self pay admitted: \", self_pay_admit / self_pay)"
   ]
  },
  {
   "cell_type": "code",
   "execution_count": 65,
   "metadata": {},
   "outputs": [],
   "source": [
    "y_train_b = pd.DataFrame(data=x_train_b['labels'])\n",
    "y_test_b = pd.DataFrame(data=x_test_b['labels'])\n",
    "\n",
    "x_train_b = x_train_b.drop(['labels'], axis=1)\n",
    "x_test_b = x_test_b.drop(['labels'], axis=1)"
   ]
  },
  {
   "cell_type": "code",
   "execution_count": 66,
   "metadata": {},
   "outputs": [
    {
     "name": "stdout",
     "output_type": "stream",
     "text": [
      "[23:31:00] WARNING: /Users/travis/build/dmlc/xgboost/src/learner.cc:516: \n",
      "Parameters: { nrounds } might not be used.\n",
      "\n",
      "  This may not be accurate due to some parameters are only used in language bindings but\n",
      "  passed down to XGBoost core.  Or some parameters are not used but slip through this\n",
      "  verification. Please open an issue if you find above cases.\n",
      "\n",
      "\n"
     ]
    },
    {
     "data": {
      "text/plain": [
       "XGBClassifier(base_score=0.5, booster='gbtree', colsample_bylevel=0.05,\n",
       "              colsample_bynode=1, colsample_bytree=1, eta=0.3,\n",
       "              eval_metric='auc', gamma=0, gpu_id=-1, importance_type='gain',\n",
       "              interaction_constraints='', learning_rate=0.300000012,\n",
       "              max_delta_step=0, max_depth=20, min_child_weight=1, missing=nan,\n",
       "              monotone_constraints='()', n_estimators=100, n_jobs=5, nrounds=30,\n",
       "              nthread=5, num_parallel_tree=1, random_state=0, reg_alpha=0,\n",
       "              reg_lambda=1, scale_pos_weight=1, subsample=1,\n",
       "              tree_method='exact', validate_parameters=1, verbosity=None)"
      ]
     },
     "execution_count": 66,
     "metadata": {},
     "output_type": "execute_result"
    }
   ],
   "source": [
    "# fit model no training data\n",
    "model_b = XGBClassifier(max_depth = 20, eta = 0.3,\n",
    "               nthread = 5, nrounds = 30,\n",
    "               eval_metric = 'auc',\n",
    "               objective = \"binary:logistic\",\n",
    "               colsample_bylevel = 0.05)\n",
    "model_b.fit(x_train_b, y_train_b.values.ravel())"
   ]
  },
  {
   "cell_type": "code",
   "execution_count": 67,
   "metadata": {},
   "outputs": [
    {
     "name": "stdout",
     "output_type": "stream",
     "text": [
      "Accuracy (B): 97.44%\n"
     ]
    }
   ],
   "source": [
    "y_pred_b = model.predict(x_test_b)\n",
    "predictions_b = [round(value) for value in y_pred_b]\n",
    "\n",
    "# evaluate predictions\n",
    "accuracy_b = accuracy_score(y_test_b, predictions_b)\n",
    "print(\"Accuracy (B): %.2f%%\" % (accuracy_b * 100.0))"
   ]
  },
  {
   "cell_type": "code",
   "execution_count": 68,
   "metadata": {},
   "outputs": [
    {
     "name": "stdout",
     "output_type": "stream",
     "text": [
      "AUC (B): 0.964\n"
     ]
    }
   ],
   "source": [
    "# calculate roc curve\n",
    "fpr_b, tpr_b, thresholds_b = roc_curve(y_test_b, y_pred_b)\n",
    "\n",
    "auc_b = roc_auc_score(y_test_b, y_pred_b)\n",
    "print('AUC (B): %.3f' % auc_b)"
   ]
  },
  {
   "cell_type": "code",
   "execution_count": 69,
   "metadata": {},
   "outputs": [
    {
     "data": {
      "image/png": "[encoded data removed]",
      "text/plain": [
       "<Figure size 432x288 with 1 Axes>"
      ]
     },
     "metadata": {
      "needs_background": "light"
     },
     "output_type": "display_data"
    }
   ],
   "source": [
    "pyplot.plot(fpr_b, tpr_b, linestyle='--', label='Hosp. B')\n",
    "\n",
    "# axis labels\n",
    "pyplot.xlabel('False Positive Rate')\n",
    "pyplot.ylabel('True Positive Rate')\n",
    "pyplot.title('Predicting Hospital B')\n",
    "# show the legend\n",
    "pyplot.legend()\n",
    "# show the plot\n",
    "pyplot.show()"
   ]
  },
  {
   "cell_type": "code",
   "execution_count": 70,
   "metadata": {},
   "outputs": [
    {
     "name": "stdout",
     "output_type": "stream",
     "text": [
      "sensitivity (B):  0.9365065980859226\n",
      "specificity (B):  0.9919763389850361\n"
     ]
    }
   ],
   "source": [
    "tn_b, fp_b, fn_b, tp_b = confusion_matrix(y_test_b, y_pred_b).ravel()\n",
    "\n",
    "sensitivity_b = tp_b / (tp_b+fn_b)\n",
    "print('sensitivity (B): ', sensitivity_b)\n",
    "\n",
    "specificity_b = tn_b / (tn_b+fp_b)\n",
    "print('specificity (B): ', specificity_b)"
   ]
  },
  {
   "cell_type": "code",
   "execution_count": 78,
   "metadata": {},
   "outputs": [
    {
     "name": "stdout",
     "output_type": "stream",
     "text": [
      "B admit rate: 0.28950566975276437\n"
     ]
    }
   ],
   "source": [
    "print(\"B admit rate:\", len(y_train_b[y_train_b['labels']>0])/len(y_train_b))"
   ]
  },
  {
   "cell_type": "code",
   "execution_count": 80,
   "metadata": {},
   "outputs": [
    {
     "data": {
      "text/plain": [
       "Unnamed: 0                  283670.017270\n",
       "dep_name.C                       0.181878\n",
       "dep_name.B                       0.000000\n",
       "dep_name.A                       0.818122\n",
       "esi.1                            0.011790\n",
       "                                ...      \n",
       "cc_woundcheck                    0.004550\n",
       "cc_woundinfection                0.003006\n",
       "X.cc_woundre.evaluation.         0.001479\n",
       "cc_wristinjury                   0.001538\n",
       "cc_wristpain                     0.002357\n",
       "Length: 1061, dtype: float64"
      ]
     },
     "execution_count": 80,
     "metadata": {},
     "output_type": "execute_result"
    }
   ],
   "source": [
    "x_train_b.mean()"
   ]
  },
  {
   "cell_type": "code",
   "execution_count": 82,
   "metadata": {},
   "outputs": [
    {
     "data": {
      "image/png": "[encoded data removed]",
      "text/plain": [
       "<Figure size 432x288 with 1 Axes>"
      ]
     },
     "metadata": {
      "needs_background": "light"
     },
     "output_type": "display_data"
    }
   ],
   "source": [
    "pyplot.plot(fpr_a, tpr_a, linestyle='--', label='ED A')\n",
    "pyplot.plot(fpr_b, tpr_b, linestyle='--', label='ED B')\n",
    "pyplot.plot(fpr_C, tpr_C, linestyle='--', label='ED C')\n",
    "\n",
    "# axis labels\n",
    "pyplot.xlabel('False Positive Rate')\n",
    "pyplot.ylabel('True Positive Rate')\n",
    "pyplot.title('Predicting ED Specific Outcomes (XGBoost)')\n",
    "# show the legend\n",
    "pyplot.legend()\n",
    "# show the plot\n",
    "pyplot.show()"
   ]
  }
 ],
 "metadata": {
  "kernelspec": {
   "display_name": "Python 3",
   "language": "python",
   "name": "python3"
  },
  "language_info": {
   "codemirror_mode": {
    "name": "ipython",
    "version": 3
   },
   "file_extension": ".py",
   "mimetype": "text/x-python",
   "name": "python",
   "nbconvert_exporter": "python",
   "pygments_lexer": "ipython3",
   "version": "3.7.9"
  }
 },
 "nbformat": 4,
 "nbformat_minor": 4
}
